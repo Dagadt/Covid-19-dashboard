{
 "cells": [
  {
   "cell_type": "code",
   "execution_count": 6,
   "metadata": {},
   "outputs": [],
   "source": [
    "import pandas as pd\n",
    "import numpy as np\n",
    "from pandas.io.json import json_normalize  "
   ]
  },
  {
   "cell_type": "code",
   "execution_count": 7,
   "metadata": {},
   "outputs": [],
   "source": [
    "d = pd.read_json(\"https://pomber.github.io/covid19/timeseries.json\")\n",
    "iso_alpha_df = pd.read_csv(\"C:\\\\Dagadt\\\\datasets\\\\covid_19\\\\country_iso_alpha_codes.csv\")"
   ]
  },
  {
   "cell_type": "code",
   "execution_count": 23,
   "metadata": {},
   "outputs": [],
   "source": [
    "iso_alpha_df.rename(columns={\"alpha-3\": \"alpha_code\"}, inplace=True)\n",
    "#create a dictionary of dataframe\n",
    "iso_alpha_dict = dict(zip(iso_alpha_df.name, iso_alpha_df.alpha_code))\n",
    "\n",
    "df = pd.DataFrame()\n",
    "\n",
    "for i in d.columns:\n",
    "    dff = d[i]\n",
    "    normalized_dff = json_normalize(dff)\n",
    "    normalized_dff[\"country\"] = i\n",
    "    if df.empty:\n",
    "        df = normalized_dff\n",
    "    else:\n",
    "        df = df.append(normalized_dff, ignore_index=True)\n",
    "\n",
    "df['alpha_code'] = df[\"country\"].map(iso_alpha_dict)\n",
    "missing_values_df = df[df[\"alpha_code\"].isnull()]"
   ]
  },
  {
   "cell_type": "code",
   "execution_count": 22,
   "metadata": {},
   "outputs": [],
   "source": [
    "iso_alpha_df.replace({\n",
    "    \"Bolivia (Plurinational State of)\":\"Bolivia\",\n",
    "    \"Brunei Darussalam\":\"Brunei\",\n",
    "    \"Côte d'Ivoire\":\"Cote d'Ivoire\",\n",
    "    \"Korea, Republic of\":\"Korea, South\",\n",
    "    \"Moldova, Republic of\":\"Moldova\",\n",
    "    \"Russian Federation\":\"Russia\",\n",
    "    \"Taiwan, Province of China\":\"Taiwan*\",\n",
    "    \"Tanzania, United Republic of\":\"Tanzania\",\n",
    "    \"United Kingdom of Great Britain and Northern Ireland\":\"United Kingdom\",\n",
    "    \"United States of America\":\"US\",\n",
    "    \"Venezuela (Bolivarian Republic of)\":\"Venezuela\",\n",
    "    \"Viet Nam\":\"Vietnam\",\n",
    "    \"Syrian Arab Republic\":\"Syria\",\n",
    "    \"Lao People's Democratic Republic\":\"Laos\",\n",
    "    \"Palestine, State of\":\"West Bank and Gaza\",\n",
    "    \"Myanmar\":\"Burma\"\n",
    "    \n",
    "}, inplace=True)\n",
    "\n",
    "\n",
    "df.replace({\n",
    "    \"Iran (Islamic Republic of)\":\"Iran\",\n",
    "}, inplace=True)"
   ]
  },
  {
   "cell_type": "code",
   "execution_count": 24,
   "metadata": {},
   "outputs": [
    {
     "data": {
      "text/plain": [
       "array(['Congo (Brazzaville)', 'Congo (Kinshasa)', 'Diamond Princess',\n",
       "       'Iran', 'Kosovo', 'MS Zaandam'], dtype=object)"
      ]
     },
     "execution_count": 24,
     "metadata": {},
     "output_type": "execute_result"
    }
   ],
   "source": [
    "missing_values_df[\"country\"].unique()"
   ]
  },
  {
   "cell_type": "code",
   "execution_count": 29,
   "metadata": {},
   "outputs": [],
   "source": [
    "iso_alpha_df.to_csv(\"C:\\\\Dagadt\\\\scripts\\\\dash-apps\\\\covid-19\\\\datasets\\\\iso_alpha.csv\")"
   ]
  },
  {
   "cell_type": "code",
   "execution_count": 27,
   "metadata": {},
   "outputs": [],
   "source": [
    "iso_alpha_df.drop(columns={\"alpha-2\", \"country-code\", \"iso_3166-2\", \"region\", \"sub-region\", \"intermediate-region\", \"region-code\", \"sub-region-code\", \"intermediate-region-code\"}, inplace=True)"
   ]
  },
  {
   "cell_type": "code",
   "execution_count": null,
   "metadata": {},
   "outputs": [],
   "source": []
  },
  {
   "cell_type": "code",
   "execution_count": null,
   "metadata": {},
   "outputs": [],
   "source": []
  },
  {
   "cell_type": "code",
   "execution_count": null,
   "metadata": {},
   "outputs": [],
   "source": []
  },
  {
   "cell_type": "code",
   "execution_count": null,
   "metadata": {},
   "outputs": [],
   "source": []
  },
  {
   "cell_type": "code",
   "execution_count": null,
   "metadata": {},
   "outputs": [],
   "source": []
  },
  {
   "cell_type": "code",
   "execution_count": null,
   "metadata": {},
   "outputs": [],
   "source": []
  }
 ],
 "metadata": {
  "kernelspec": {
   "display_name": "Python 3",
   "language": "python",
   "name": "python3"
  },
  "language_info": {
   "codemirror_mode": {
    "name": "ipython",
    "version": 3
   },
   "file_extension": ".py",
   "mimetype": "text/x-python",
   "name": "python",
   "nbconvert_exporter": "python",
   "pygments_lexer": "ipython3",
   "version": "3.7.2"
  }
 },
 "nbformat": 4,
 "nbformat_minor": 2
}
